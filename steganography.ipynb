{
 "cells": [
  {
   "cell_type": "markdown",
   "metadata": {},
   "source": [
    "# How to Use Steganography to Hide Secret Data in Images in Python"
   ]
  },
  {
   "cell_type": "markdown",
   "metadata": {},
   "source": [
    "## What is Steganography"
   ]
  },
  {
   "cell_type": "markdown",
   "metadata": {},
   "source": [
    "Steganography is the practice of hiding a file, message, image or video within another file, message, image or video. The word steganography is derived from the Greek words steganos (meaning hidden or covered) and graphe (meaning writing).\n",
    "\n",
    "It is often used among hackers to hide secret messages or data within media files such as images, videos or audio files. Even though there are many legitimate uses for Steganography such as watermarking, malware programmers have also been found to use it to obscure the transmission of malicious code.\n",
    "\n",
    "In this tutorial, we gonna write a Python code to hide text messages using a technique called Least Significant Bit."
   ]
  },
  {
   "cell_type": "markdown",
   "metadata": {},
   "source": [
    "https://www.thepythoncode.com/article/hide-secret-data-in-images-using-steganography-python?utm_source=newsletter&utm_medium=email&utm_campaign=newsletter"
   ]
  },
  {
   "cell_type": "markdown",
   "metadata": {},
   "source": [
    "What is Least Significant Bit\n",
    "Least Significant Bit (LSB) is a technique in which last bit of each pixel is modified and replaced with the data bit. This method only works on Lossless-compression images, which means that the files are stored in a compressed format, but that this compression does not result in the data being lost or modified, PNG, TIFF, and BMP as an example, are lossless-compression image file formats.\n",
    "\n",
    "As you may already know, an image consists of several pixels, each pixel contains three values (which are Red, Green, Blue), these values range from 0 to 255, in other words, they are 8-bit values. For example, a value of 225 is 11100001 in binary and so on.\n",
    "\n",
    "Let's take an example of how this technique works, say I want to hide the message \"hi\" into a 4x4 image, here are the example image pixel values:"
   ]
  },
  {
   "cell_type": "raw",
   "metadata": {},
   "source": [
    "[(225, 12, 99), (155, 2, 50), (99, 51, 15), (15, 55, 22),\n",
    "(155, 61, 87), (63, 30, 17), (1, 55, 19), (99, 81, 66),\n",
    "(219, 77, 91), (69, 39, 50), (18, 200, 33), (25, 54, 190)]"
   ]
  },
  {
   "cell_type": "markdown",
   "metadata": {},
   "source": [
    "By looking at the ASCII Table, we can convert this message into decimal values and then into binary:"
   ]
  },
  {
   "cell_type": "markdown",
   "metadata": {},
   "source": [
    "0110100 0110101"
   ]
  },
  {
   "cell_type": "markdown",
   "metadata": {},
   "source": [
    "Now, we iterate over the pixel values one by one, after converting them to binary, we replace each least significant bit with that message bits sequentially (e.g 225 is 11100001, we replace the last bit, the bit in the right (1) with the first data bit (0) and so on).\n",
    "\n",
    "This will only modify the pixel values by +1 or -1 which is not noticable at all, you can use 2-Least Significant Bits too which will modify the pixels by a range of -3 to +3.\n"
   ]
  },
  {
   "cell_type": "code",
   "execution_count": null,
   "metadata": {},
   "outputs": [
    {
     "name": "stdout",
     "output_type": "stream",
     "text": [
      "[*] Maximum bytes to encode: 173895\n",
      "[*] Encoding data...\n",
      "[+] Decoding...\n"
     ]
    }
   ],
   "source": [
    "import cv2\n",
    "import numpy as np\n",
    "\n",
    "def to_bin(data):\n",
    "    \"\"\"Convert `data` to binary format as string\"\"\"\n",
    "    if isinstance(data, str):\n",
    "        return ''.join([ format(ord(i), \"08b\") for i in data ])\n",
    "    elif isinstance(data, bytes) or isinstance(data, np.ndarray):\n",
    "        return [ format(i, \"08b\") for i in data ]\n",
    "    elif isinstance(data, int) or isinstance(data, np.uint8):\n",
    "        return format(data, \"08b\")\n",
    "    else:\n",
    "        raise TypeError(\"Type not supported.\")\n",
    "        \n",
    "def encode(image_name, secret_data):\n",
    "    # read the image\n",
    "    image = cv2.imread(image_name)\n",
    "    # maximum bytes to encode\n",
    "    n_bytes = image.shape[0] * image.shape[1] * 3 // 8\n",
    "    print(\"[*] Maximum bytes to encode:\", n_bytes)\n",
    "    if len(secret_data) > n_bytes:\n",
    "        raise ValueError(\"[!] Insufficient bytes, need bigger image or less data.\")\n",
    "    print(\"[*] Encoding data...\")\n",
    "    # add stopping criteria\n",
    "    secret_data += \"=====\"\n",
    "    data_index = 0\n",
    "    # convert data to binary\n",
    "    binary_secret_data = to_bin(secret_data)\n",
    "    # size of data to hide\n",
    "    data_len = len(binary_secret_data)\n",
    "    for row in image:\n",
    "        for pixel in row:\n",
    "            # convert RGB values to binary format\n",
    "            r, g, b = to_bin(pixel)\n",
    "            # modify the least significant bit only if there is still data to store\n",
    "            if data_index < data_len:\n",
    "                # least significant red pixel bit\n",
    "                pixel[0] = int(r[:-1] + binary_secret_data[data_index], 2)\n",
    "                data_index += 1\n",
    "            if data_index < data_len:\n",
    "                # least significant green pixel bit\n",
    "                pixel[1] = int(g[:-1] + binary_secret_data[data_index], 2)\n",
    "                data_index += 1\n",
    "            if data_index < data_len:\n",
    "                # least significant blue pixel bit\n",
    "                pixel[2] = int(b[:-1] + binary_secret_data[data_index], 2)\n",
    "                data_index += 1\n",
    "            # if data is encoded, just break out of the loop\n",
    "            if data_index >= data_len:\n",
    "                break\n",
    "    return image\n",
    "\n",
    "def decode(image_name):\n",
    "    print(\"[+] Decoding...\")\n",
    "    # read the image\n",
    "    image = cv2.imread(image_name)\n",
    "    binary_data = \"\"\n",
    "    for row in image:\n",
    "        for pixel in row:\n",
    "            r, g, b = to_bin(pixel)\n",
    "            binary_data += r[-1]\n",
    "            binary_data += g[-1]\n",
    "            binary_data += b[-1]\n",
    "    # split by 8-bits\n",
    "    all_bytes = [ binary_data[i: i+8] for i in range(0, len(binary_data), 8) ]\n",
    "    # convert from bits to characters\n",
    "    decoded_data = \"\"\n",
    "    for byte in all_bytes:\n",
    "        decoded_data += chr(int(byte, 2))\n",
    "        if decoded_data[-5:] == \"=====\":\n",
    "            break\n",
    "    return decoded_data[:-5]\n",
    "\n",
    "if __name__ == \"__main__\":\n",
    "    input_image = \"image.PNG\"\n",
    "    output_image = \"encoded_image.PNG\"\n",
    "    secret_data = \"Pieter Paauw is the best.\"\n",
    "    # encode the data into the image\n",
    "    encoded_image = encode(image_name=input_image, secret_data=secret_data)\n",
    "    # save the output image (encoded image)\n",
    "    cv2.imwrite(output_image, encoded_image)\n",
    "    # decode the secret data from the image\n",
    "    decoded_data = decode(output_image)\n",
    "    print(\"[+] Decoded data:\", decoded_data)"
   ]
  },
  {
   "cell_type": "code",
   "execution_count": null,
   "metadata": {},
   "outputs": [],
   "source": []
  }
 ],
 "metadata": {
  "kernelspec": {
   "display_name": "Python 3",
   "language": "python",
   "name": "python3"
  },
  "language_info": {
   "codemirror_mode": {
    "name": "ipython",
    "version": 3
   },
   "file_extension": ".py",
   "mimetype": "text/x-python",
   "name": "python",
   "nbconvert_exporter": "python",
   "pygments_lexer": "ipython3",
   "version": "3.7.1"
  }
 },
 "nbformat": 4,
 "nbformat_minor": 2
}
