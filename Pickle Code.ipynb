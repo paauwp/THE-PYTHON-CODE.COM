{
 "cells": [
  {
   "cell_type": "markdown",
   "metadata": {},
   "source": [
    "# How to Use Pickle for Object Serialization in Python"
   ]
  },
  {
   "cell_type": "markdown",
   "metadata": {},
   "source": [
    "Object serialization is the process of translating data structures or object state into a format that can be stored in a file or transmitted and reconstructed later. In this tutorial, you will learn how you can use pickle built-in module to serialize and deserialize objects in Python.\n",
    "\n",
    "Serialization in Python is often called pickling. Pickling is simply the process whereby a Python object hierarchy is converted into a byte stream, and unpickling is the inverse operation."
   ]
  },
  {
   "cell_type": "code",
   "execution_count": 1,
   "metadata": {},
   "outputs": [],
   "source": [
    "import pickle"
   ]
  },
  {
   "cell_type": "code",
   "execution_count": 2,
   "metadata": {},
   "outputs": [],
   "source": [
    "# Let´s create a list with dictionaries inside\n",
    "dictinlist = [{\"bob\":10}, {\"Fred\": 20},{\"Pieter\": 100}]"
   ]
  },
  {
   "cell_type": "code",
   "execution_count": 3,
   "metadata": {},
   "outputs": [
    {
     "name": "stdout",
     "output_type": "stream",
     "text": [
      "[{'bob': 10}, {'Fred': 20}, {'Pieter': 100}]\n"
     ]
    }
   ],
   "source": [
    "print(dictinlist)"
   ]
  },
  {
   "cell_type": "code",
   "execution_count": 4,
   "metadata": {},
   "outputs": [],
   "source": [
    "# save it to a file\n",
    "with open(\"dictinlist.pickle\", \"wb\") as file:\n",
    "    pickle.dump(dictinlist, file)"
   ]
  },
  {
   "cell_type": "markdown",
   "metadata": {},
   "source": [
    "pickle.dump(obj, file) writes a pickled representation of obj (in this case, the list) to the open file (in write and bytes mode \"wb\"), let's load this object again:"
   ]
  },
  {
   "cell_type": "code",
   "execution_count": 6,
   "metadata": {},
   "outputs": [],
   "source": [
    "# load it again\n",
    "with open(\"dictinlist.pickle\", \"rb\") as file:\n",
    "    unpickled_dictinlist = pickle.load(file)"
   ]
  },
  {
   "cell_type": "code",
   "execution_count": 7,
   "metadata": {},
   "outputs": [
    {
     "name": "stdout",
     "output_type": "stream",
     "text": [
      "[{'bob': 10}, {'Fred': 20}, {'Pieter': 100}]\n"
     ]
    }
   ],
   "source": [
    "print(unpickled_dictinlist)"
   ]
  },
  {
   "cell_type": "code",
   "execution_count": 8,
   "metadata": {},
   "outputs": [
    {
     "name": "stdout",
     "output_type": "stream",
     "text": [
      "b'\\x80\\x03]q\\x00(}q\\x01X\\x03\\x00\\x00\\x00bobq\\x02K\\ns}q\\x03X\\x04\\x00\\x00\\x00Fredq\\x04K\\x14s}q\\x05X\\x06\\x00\\x00\\x00Pieterq\\x06Kdse.'\n"
     ]
    }
   ],
   "source": [
    "# get the dumped bytes\n",
    "dumped_p = pickle.dumps(dictinlist)\n",
    "print(dumped_p)"
   ]
  },
  {
   "cell_type": "code",
   "execution_count": null,
   "metadata": {},
   "outputs": [],
   "source": []
  }
 ],
 "metadata": {
  "kernelspec": {
   "display_name": "Python 3",
   "language": "python",
   "name": "python3"
  },
  "language_info": {
   "codemirror_mode": {
    "name": "ipython",
    "version": 3
   },
   "file_extension": ".py",
   "mimetype": "text/x-python",
   "name": "python",
   "nbconvert_exporter": "python",
   "pygments_lexer": "ipython3",
   "version": "3.7.1"
  }
 },
 "nbformat": 4,
 "nbformat_minor": 2
}
